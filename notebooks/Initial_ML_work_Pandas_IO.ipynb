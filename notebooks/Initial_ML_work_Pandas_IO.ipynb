{
 "cells": [
  {
   "cell_type": "code",
   "execution_count": 1,
   "metadata": {},
   "outputs": [],
   "source": [
    "from pandas import read_json\n",
    "from glob import glob \n",
    "from os import listdir,getcwd\n",
    "from os.path import join "
   ]
  },
  {
   "cell_type": "markdown",
   "metadata": {},
   "source": [
    "## File list\n",
    "Generate a list of the data frame files (json files) with the full path. Print each of the paths and the number of files."
   ]
  },
  {
   "cell_type": "code",
   "execution_count": 2,
   "metadata": {},
   "outputs": [
    {
     "name": "stdout",
     "output_type": "stream",
     "text": [
      "C:\\Users\\sebas\\Documents\\DataFrames\n",
      "['.ipynb_checkpoints', 'Correlation_search_testing.ipynb', 'EpDF_DataFrame.csv', 'EpDF_Testing_25', 'EpDF_Training_50', 'EpDF_Validation_25', 'Initial_ML_work_Pandas_IO.ipynb', 'pid_df.py', 'pid_df_old.py', 'PipDF_DataFrame.csv', 'PipDF_Testing_25', 'PipDF_Training_50', 'PipDF_Validation_25', 'ProtDF_sh_DataFrame.csv', 'ProtDF_sh_Testing_25', 'ProtDF_sh_Training_50', 'ProtDF_sh_Validation_25', 'Single_particle_features.png', 'Two_particle_features.png', 'Untitled.ipynb', 'Untitled1.ipynb', '__pycache__']\n",
      "['.part-00000-6b976661-9ce5-4d16-8f87-c89392804828-c000.json.crc', '.part-00001-6b976661-9ce5-4d16-8f87-c89392804828-c000.json.crc', '.part-00002-6b976661-9ce5-4d16-8f87-c89392804828-c000.json.crc', '.part-00003-6b976661-9ce5-4d16-8f87-c89392804828-c000.json.crc', '.part-00004-6b976661-9ce5-4d16-8f87-c89392804828-c000.json.crc', '.part-00005-6b976661-9ce5-4d16-8f87-c89392804828-c000.json.crc', '._SUCCESS.crc', 'part-00000-6b976661-9ce5-4d16-8f87-c89392804828-c000.json', 'part-00001-6b976661-9ce5-4d16-8f87-c89392804828-c000.json', 'part-00002-6b976661-9ce5-4d16-8f87-c89392804828-c000.json', 'part-00003-6b976661-9ce5-4d16-8f87-c89392804828-c000.json', 'part-00004-6b976661-9ce5-4d16-8f87-c89392804828-c000.json', 'part-00005-6b976661-9ce5-4d16-8f87-c89392804828-c000.json', '_SUCCESS']\n",
      "['.part-00000-192751e2-c8b5-4d54-941a-43d0306418a8-c000.json.crc', '.part-00001-192751e2-c8b5-4d54-941a-43d0306418a8-c000.json.crc', '.part-00002-192751e2-c8b5-4d54-941a-43d0306418a8-c000.json.crc', '.part-00003-192751e2-c8b5-4d54-941a-43d0306418a8-c000.json.crc', '.part-00004-192751e2-c8b5-4d54-941a-43d0306418a8-c000.json.crc', '.part-00005-192751e2-c8b5-4d54-941a-43d0306418a8-c000.json.crc', '._SUCCESS.crc', 'part-00000-192751e2-c8b5-4d54-941a-43d0306418a8-c000.json', 'part-00001-192751e2-c8b5-4d54-941a-43d0306418a8-c000.json', 'part-00002-192751e2-c8b5-4d54-941a-43d0306418a8-c000.json', 'part-00003-192751e2-c8b5-4d54-941a-43d0306418a8-c000.json', 'part-00004-192751e2-c8b5-4d54-941a-43d0306418a8-c000.json', 'part-00005-192751e2-c8b5-4d54-941a-43d0306418a8-c000.json', '_SUCCESS']\n",
      "['.part-00000-41bda35c-4483-4432-8961-75b3ea2cae2e-c000.json.crc', '.part-00001-41bda35c-4483-4432-8961-75b3ea2cae2e-c000.json.crc', '.part-00002-41bda35c-4483-4432-8961-75b3ea2cae2e-c000.json.crc', '.part-00003-41bda35c-4483-4432-8961-75b3ea2cae2e-c000.json.crc', '.part-00004-41bda35c-4483-4432-8961-75b3ea2cae2e-c000.json.crc', '.part-00005-41bda35c-4483-4432-8961-75b3ea2cae2e-c000.json.crc', '._SUCCESS.crc', 'part-00000-41bda35c-4483-4432-8961-75b3ea2cae2e-c000.json', 'part-00001-41bda35c-4483-4432-8961-75b3ea2cae2e-c000.json', 'part-00002-41bda35c-4483-4432-8961-75b3ea2cae2e-c000.json', 'part-00003-41bda35c-4483-4432-8961-75b3ea2cae2e-c000.json', 'part-00004-41bda35c-4483-4432-8961-75b3ea2cae2e-c000.json', 'part-00005-41bda35c-4483-4432-8961-75b3ea2cae2e-c000.json', '_SUCCESS']\n",
      "['.part-00000-de25829b-9453-4241-a01e-e13d4afae17e-c000.json.crc', '.part-00001-de25829b-9453-4241-a01e-e13d4afae17e-c000.json.crc', '.part-00002-de25829b-9453-4241-a01e-e13d4afae17e-c000.json.crc', '.part-00003-de25829b-9453-4241-a01e-e13d4afae17e-c000.json.crc', '.part-00004-de25829b-9453-4241-a01e-e13d4afae17e-c000.json.crc', '.part-00005-de25829b-9453-4241-a01e-e13d4afae17e-c000.json.crc', '._SUCCESS.crc', 'part-00000-de25829b-9453-4241-a01e-e13d4afae17e-c000.json', 'part-00001-de25829b-9453-4241-a01e-e13d4afae17e-c000.json', 'part-00002-de25829b-9453-4241-a01e-e13d4afae17e-c000.json', 'part-00003-de25829b-9453-4241-a01e-e13d4afae17e-c000.json', 'part-00004-de25829b-9453-4241-a01e-e13d4afae17e-c000.json', 'part-00005-de25829b-9453-4241-a01e-e13d4afae17e-c000.json', '_SUCCESS']\n",
      "['.part-00000-90ad08f7-4a17-4e20-b75d-9b6dcd456953-c000.json.crc', '.part-00001-90ad08f7-4a17-4e20-b75d-9b6dcd456953-c000.json.crc', '.part-00002-90ad08f7-4a17-4e20-b75d-9b6dcd456953-c000.json.crc', '.part-00003-90ad08f7-4a17-4e20-b75d-9b6dcd456953-c000.json.crc', '.part-00004-90ad08f7-4a17-4e20-b75d-9b6dcd456953-c000.json.crc', '.part-00005-90ad08f7-4a17-4e20-b75d-9b6dcd456953-c000.json.crc', '._SUCCESS.crc', 'part-00000-90ad08f7-4a17-4e20-b75d-9b6dcd456953-c000.json', 'part-00001-90ad08f7-4a17-4e20-b75d-9b6dcd456953-c000.json', 'part-00002-90ad08f7-4a17-4e20-b75d-9b6dcd456953-c000.json', 'part-00003-90ad08f7-4a17-4e20-b75d-9b6dcd456953-c000.json', 'part-00004-90ad08f7-4a17-4e20-b75d-9b6dcd456953-c000.json', 'part-00005-90ad08f7-4a17-4e20-b75d-9b6dcd456953-c000.json', '_SUCCESS']\n",
      "['.part-00000-074f1af4-bf53-4b69-a9c2-4a4b3620dd2b-c000.json.crc', '.part-00001-074f1af4-bf53-4b69-a9c2-4a4b3620dd2b-c000.json.crc', '.part-00002-074f1af4-bf53-4b69-a9c2-4a4b3620dd2b-c000.json.crc', '.part-00003-074f1af4-bf53-4b69-a9c2-4a4b3620dd2b-c000.json.crc', '.part-00004-074f1af4-bf53-4b69-a9c2-4a4b3620dd2b-c000.json.crc', '.part-00005-074f1af4-bf53-4b69-a9c2-4a4b3620dd2b-c000.json.crc', '._SUCCESS.crc', 'part-00000-074f1af4-bf53-4b69-a9c2-4a4b3620dd2b-c000.json', 'part-00001-074f1af4-bf53-4b69-a9c2-4a4b3620dd2b-c000.json', 'part-00002-074f1af4-bf53-4b69-a9c2-4a4b3620dd2b-c000.json', 'part-00003-074f1af4-bf53-4b69-a9c2-4a4b3620dd2b-c000.json', 'part-00004-074f1af4-bf53-4b69-a9c2-4a4b3620dd2b-c000.json', 'part-00005-074f1af4-bf53-4b69-a9c2-4a4b3620dd2b-c000.json', '_SUCCESS']\n",
      "['.part-00000-8e64a236-89a2-4fa7-838c-4bd49050ac42-c000.json.crc', '.part-00001-8e64a236-89a2-4fa7-838c-4bd49050ac42-c000.json.crc', '.part-00002-8e64a236-89a2-4fa7-838c-4bd49050ac42-c000.json.crc', '.part-00003-8e64a236-89a2-4fa7-838c-4bd49050ac42-c000.json.crc', '.part-00004-8e64a236-89a2-4fa7-838c-4bd49050ac42-c000.json.crc', '.part-00005-8e64a236-89a2-4fa7-838c-4bd49050ac42-c000.json.crc', '._SUCCESS.crc', 'part-00000-8e64a236-89a2-4fa7-838c-4bd49050ac42-c000.json', 'part-00001-8e64a236-89a2-4fa7-838c-4bd49050ac42-c000.json', 'part-00002-8e64a236-89a2-4fa7-838c-4bd49050ac42-c000.json', 'part-00003-8e64a236-89a2-4fa7-838c-4bd49050ac42-c000.json', 'part-00004-8e64a236-89a2-4fa7-838c-4bd49050ac42-c000.json', 'part-00005-8e64a236-89a2-4fa7-838c-4bd49050ac42-c000.json', '_SUCCESS']\n",
      "['.part-00000-0ce6effd-c922-46f1-b9e1-3f588dcd4450-c000.json.crc', '.part-00001-0ce6effd-c922-46f1-b9e1-3f588dcd4450-c000.json.crc', '.part-00002-0ce6effd-c922-46f1-b9e1-3f588dcd4450-c000.json.crc', '.part-00003-0ce6effd-c922-46f1-b9e1-3f588dcd4450-c000.json.crc', '.part-00004-0ce6effd-c922-46f1-b9e1-3f588dcd4450-c000.json.crc', '.part-00005-0ce6effd-c922-46f1-b9e1-3f588dcd4450-c000.json.crc', '._SUCCESS.crc', 'part-00000-0ce6effd-c922-46f1-b9e1-3f588dcd4450-c000.json', 'part-00001-0ce6effd-c922-46f1-b9e1-3f588dcd4450-c000.json', 'part-00002-0ce6effd-c922-46f1-b9e1-3f588dcd4450-c000.json', 'part-00003-0ce6effd-c922-46f1-b9e1-3f588dcd4450-c000.json', 'part-00004-0ce6effd-c922-46f1-b9e1-3f588dcd4450-c000.json', 'part-00005-0ce6effd-c922-46f1-b9e1-3f588dcd4450-c000.json', '_SUCCESS']\n",
      "['.part-00000-87a665bc-9215-4f9b-8326-9c2e89cf8bc3-c000.json.crc', '.part-00001-87a665bc-9215-4f9b-8326-9c2e89cf8bc3-c000.json.crc', '.part-00002-87a665bc-9215-4f9b-8326-9c2e89cf8bc3-c000.json.crc', '.part-00003-87a665bc-9215-4f9b-8326-9c2e89cf8bc3-c000.json.crc', '.part-00004-87a665bc-9215-4f9b-8326-9c2e89cf8bc3-c000.json.crc', '.part-00005-87a665bc-9215-4f9b-8326-9c2e89cf8bc3-c000.json.crc', '._SUCCESS.crc', 'part-00000-87a665bc-9215-4f9b-8326-9c2e89cf8bc3-c000.json', 'part-00001-87a665bc-9215-4f9b-8326-9c2e89cf8bc3-c000.json', 'part-00002-87a665bc-9215-4f9b-8326-9c2e89cf8bc3-c000.json', 'part-00003-87a665bc-9215-4f9b-8326-9c2e89cf8bc3-c000.json', 'part-00004-87a665bc-9215-4f9b-8326-9c2e89cf8bc3-c000.json', 'part-00005-87a665bc-9215-4f9b-8326-9c2e89cf8bc3-c000.json', '_SUCCESS']\n",
      "C:\\Users\\sebas\\Documents\\DataFrames\\EpDF_Testing_25\\DataFrame0\\part-00000-6b976661-9ce5-4d16-8f87-c89392804828-c000.json\n",
      "C:\\Users\\sebas\\Documents\\DataFrames\\EpDF_Testing_25\\DataFrame0\\part-00001-6b976661-9ce5-4d16-8f87-c89392804828-c000.json\n",
      "C:\\Users\\sebas\\Documents\\DataFrames\\EpDF_Testing_25\\DataFrame0\\part-00002-6b976661-9ce5-4d16-8f87-c89392804828-c000.json\n",
      "C:\\Users\\sebas\\Documents\\DataFrames\\EpDF_Testing_25\\DataFrame0\\part-00003-6b976661-9ce5-4d16-8f87-c89392804828-c000.json\n",
      "C:\\Users\\sebas\\Documents\\DataFrames\\EpDF_Testing_25\\DataFrame0\\part-00004-6b976661-9ce5-4d16-8f87-c89392804828-c000.json\n",
      "C:\\Users\\sebas\\Documents\\DataFrames\\EpDF_Testing_25\\DataFrame0\\part-00005-6b976661-9ce5-4d16-8f87-c89392804828-c000.json\n",
      "C:\\Users\\sebas\\Documents\\DataFrames\\EpDF_Training_50\\DataFrame0\\part-00000-192751e2-c8b5-4d54-941a-43d0306418a8-c000.json\n",
      "C:\\Users\\sebas\\Documents\\DataFrames\\EpDF_Training_50\\DataFrame0\\part-00001-192751e2-c8b5-4d54-941a-43d0306418a8-c000.json\n",
      "C:\\Users\\sebas\\Documents\\DataFrames\\EpDF_Training_50\\DataFrame0\\part-00002-192751e2-c8b5-4d54-941a-43d0306418a8-c000.json\n",
      "C:\\Users\\sebas\\Documents\\DataFrames\\EpDF_Training_50\\DataFrame0\\part-00003-192751e2-c8b5-4d54-941a-43d0306418a8-c000.json\n",
      "C:\\Users\\sebas\\Documents\\DataFrames\\EpDF_Training_50\\DataFrame0\\part-00004-192751e2-c8b5-4d54-941a-43d0306418a8-c000.json\n",
      "C:\\Users\\sebas\\Documents\\DataFrames\\EpDF_Training_50\\DataFrame0\\part-00005-192751e2-c8b5-4d54-941a-43d0306418a8-c000.json\n",
      "C:\\Users\\sebas\\Documents\\DataFrames\\EpDF_Validation_25\\DataFrame0\\part-00000-41bda35c-4483-4432-8961-75b3ea2cae2e-c000.json\n",
      "C:\\Users\\sebas\\Documents\\DataFrames\\EpDF_Validation_25\\DataFrame0\\part-00001-41bda35c-4483-4432-8961-75b3ea2cae2e-c000.json\n",
      "C:\\Users\\sebas\\Documents\\DataFrames\\EpDF_Validation_25\\DataFrame0\\part-00002-41bda35c-4483-4432-8961-75b3ea2cae2e-c000.json\n",
      "C:\\Users\\sebas\\Documents\\DataFrames\\EpDF_Validation_25\\DataFrame0\\part-00003-41bda35c-4483-4432-8961-75b3ea2cae2e-c000.json\n",
      "C:\\Users\\sebas\\Documents\\DataFrames\\EpDF_Validation_25\\DataFrame0\\part-00004-41bda35c-4483-4432-8961-75b3ea2cae2e-c000.json\n",
      "C:\\Users\\sebas\\Documents\\DataFrames\\EpDF_Validation_25\\DataFrame0\\part-00005-41bda35c-4483-4432-8961-75b3ea2cae2e-c000.json\n",
      "C:\\Users\\sebas\\Documents\\DataFrames\\PipDF_Testing_25\\DataFrame0\\part-00000-de25829b-9453-4241-a01e-e13d4afae17e-c000.json\n",
      "C:\\Users\\sebas\\Documents\\DataFrames\\PipDF_Testing_25\\DataFrame0\\part-00001-de25829b-9453-4241-a01e-e13d4afae17e-c000.json\n",
      "C:\\Users\\sebas\\Documents\\DataFrames\\PipDF_Testing_25\\DataFrame0\\part-00002-de25829b-9453-4241-a01e-e13d4afae17e-c000.json\n",
      "C:\\Users\\sebas\\Documents\\DataFrames\\PipDF_Testing_25\\DataFrame0\\part-00003-de25829b-9453-4241-a01e-e13d4afae17e-c000.json\n",
      "C:\\Users\\sebas\\Documents\\DataFrames\\PipDF_Testing_25\\DataFrame0\\part-00004-de25829b-9453-4241-a01e-e13d4afae17e-c000.json\n",
      "C:\\Users\\sebas\\Documents\\DataFrames\\PipDF_Testing_25\\DataFrame0\\part-00005-de25829b-9453-4241-a01e-e13d4afae17e-c000.json\n",
      "C:\\Users\\sebas\\Documents\\DataFrames\\PipDF_Training_50\\DataFrame0\\part-00000-90ad08f7-4a17-4e20-b75d-9b6dcd456953-c000.json\n",
      "C:\\Users\\sebas\\Documents\\DataFrames\\PipDF_Training_50\\DataFrame0\\part-00001-90ad08f7-4a17-4e20-b75d-9b6dcd456953-c000.json\n",
      "C:\\Users\\sebas\\Documents\\DataFrames\\PipDF_Training_50\\DataFrame0\\part-00002-90ad08f7-4a17-4e20-b75d-9b6dcd456953-c000.json\n",
      "C:\\Users\\sebas\\Documents\\DataFrames\\PipDF_Training_50\\DataFrame0\\part-00003-90ad08f7-4a17-4e20-b75d-9b6dcd456953-c000.json\n",
      "C:\\Users\\sebas\\Documents\\DataFrames\\PipDF_Training_50\\DataFrame0\\part-00004-90ad08f7-4a17-4e20-b75d-9b6dcd456953-c000.json\n",
      "C:\\Users\\sebas\\Documents\\DataFrames\\PipDF_Training_50\\DataFrame0\\part-00005-90ad08f7-4a17-4e20-b75d-9b6dcd456953-c000.json\n",
      "C:\\Users\\sebas\\Documents\\DataFrames\\PipDF_Validation_25\\DataFrame0\\part-00000-074f1af4-bf53-4b69-a9c2-4a4b3620dd2b-c000.json\n",
      "C:\\Users\\sebas\\Documents\\DataFrames\\PipDF_Validation_25\\DataFrame0\\part-00001-074f1af4-bf53-4b69-a9c2-4a4b3620dd2b-c000.json\n",
      "C:\\Users\\sebas\\Documents\\DataFrames\\PipDF_Validation_25\\DataFrame0\\part-00002-074f1af4-bf53-4b69-a9c2-4a4b3620dd2b-c000.json\n",
      "C:\\Users\\sebas\\Documents\\DataFrames\\PipDF_Validation_25\\DataFrame0\\part-00003-074f1af4-bf53-4b69-a9c2-4a4b3620dd2b-c000.json\n",
      "C:\\Users\\sebas\\Documents\\DataFrames\\PipDF_Validation_25\\DataFrame0\\part-00004-074f1af4-bf53-4b69-a9c2-4a4b3620dd2b-c000.json\n",
      "C:\\Users\\sebas\\Documents\\DataFrames\\PipDF_Validation_25\\DataFrame0\\part-00005-074f1af4-bf53-4b69-a9c2-4a4b3620dd2b-c000.json\n",
      "C:\\Users\\sebas\\Documents\\DataFrames\\ProtDF_sh_Testing_25\\DataFrame0\\part-00000-8e64a236-89a2-4fa7-838c-4bd49050ac42-c000.json\n",
      "C:\\Users\\sebas\\Documents\\DataFrames\\ProtDF_sh_Testing_25\\DataFrame0\\part-00001-8e64a236-89a2-4fa7-838c-4bd49050ac42-c000.json\n",
      "C:\\Users\\sebas\\Documents\\DataFrames\\ProtDF_sh_Testing_25\\DataFrame0\\part-00002-8e64a236-89a2-4fa7-838c-4bd49050ac42-c000.json\n",
      "C:\\Users\\sebas\\Documents\\DataFrames\\ProtDF_sh_Testing_25\\DataFrame0\\part-00003-8e64a236-89a2-4fa7-838c-4bd49050ac42-c000.json\n",
      "C:\\Users\\sebas\\Documents\\DataFrames\\ProtDF_sh_Testing_25\\DataFrame0\\part-00004-8e64a236-89a2-4fa7-838c-4bd49050ac42-c000.json\n",
      "C:\\Users\\sebas\\Documents\\DataFrames\\ProtDF_sh_Testing_25\\DataFrame0\\part-00005-8e64a236-89a2-4fa7-838c-4bd49050ac42-c000.json\n",
      "C:\\Users\\sebas\\Documents\\DataFrames\\ProtDF_sh_Training_50\\DataFrame0\\part-00000-0ce6effd-c922-46f1-b9e1-3f588dcd4450-c000.json\n",
      "C:\\Users\\sebas\\Documents\\DataFrames\\ProtDF_sh_Training_50\\DataFrame0\\part-00001-0ce6effd-c922-46f1-b9e1-3f588dcd4450-c000.json\n",
      "C:\\Users\\sebas\\Documents\\DataFrames\\ProtDF_sh_Training_50\\DataFrame0\\part-00002-0ce6effd-c922-46f1-b9e1-3f588dcd4450-c000.json\n",
      "C:\\Users\\sebas\\Documents\\DataFrames\\ProtDF_sh_Training_50\\DataFrame0\\part-00003-0ce6effd-c922-46f1-b9e1-3f588dcd4450-c000.json\n",
      "C:\\Users\\sebas\\Documents\\DataFrames\\ProtDF_sh_Training_50\\DataFrame0\\part-00004-0ce6effd-c922-46f1-b9e1-3f588dcd4450-c000.json\n",
      "C:\\Users\\sebas\\Documents\\DataFrames\\ProtDF_sh_Training_50\\DataFrame0\\part-00005-0ce6effd-c922-46f1-b9e1-3f588dcd4450-c000.json\n",
      "C:\\Users\\sebas\\Documents\\DataFrames\\ProtDF_sh_Validation_25\\DataFrame0\\part-00000-87a665bc-9215-4f9b-8326-9c2e89cf8bc3-c000.json\n",
      "C:\\Users\\sebas\\Documents\\DataFrames\\ProtDF_sh_Validation_25\\DataFrame0\\part-00001-87a665bc-9215-4f9b-8326-9c2e89cf8bc3-c000.json\n",
      "C:\\Users\\sebas\\Documents\\DataFrames\\ProtDF_sh_Validation_25\\DataFrame0\\part-00002-87a665bc-9215-4f9b-8326-9c2e89cf8bc3-c000.json\n",
      "C:\\Users\\sebas\\Documents\\DataFrames\\ProtDF_sh_Validation_25\\DataFrame0\\part-00003-87a665bc-9215-4f9b-8326-9c2e89cf8bc3-c000.json\n",
      "C:\\Users\\sebas\\Documents\\DataFrames\\ProtDF_sh_Validation_25\\DataFrame0\\part-00004-87a665bc-9215-4f9b-8326-9c2e89cf8bc3-c000.json\n",
      "C:\\Users\\sebas\\Documents\\DataFrames\\ProtDF_sh_Validation_25\\DataFrame0\\part-00005-87a665bc-9215-4f9b-8326-9c2e89cf8bc3-c000.json\n",
      "\n",
      "We have 54 files.\n"
     ]
    }
   ],
   "source": [
    "dirs = listdir(getcwd())\n",
    "print(getcwd())\n",
    "print(dirs)\n",
    "tmp = []\n",
    "for d in dirs:\n",
    "    if '.' in d or d == '__pycache__':\n",
    "        continue\n",
    "    files = listdir(join(getcwd(),d,'DataFrame0'))\n",
    "    print(files)\n",
    "    for f in files:\n",
    "        if not f.endswith('.json'):\n",
    "            continue\n",
    "        tmp.append(join(getcwd(),d,'DataFrame0',f))\n",
    "dirs = tmp\n",
    "for f in dirs:\n",
    "    print(f)\n",
    "print('\\nWe have',len(dirs),'files.')"
   ]
  },
  {
   "cell_type": "markdown",
   "metadata": {},
   "source": [
    "# Pandas dataframes\n",
    "Ensure each of the files can be read into a pandas dataframe object with read_json. If not, one will need to investigate the formattinf of the last file name to be printed before the error. \n",
    "\n",
    "To produce pandas dataframe objects from json files:\n",
    "```Python\n",
    "from pandas import read_json\n",
    "pd = read_json(file_name)```\n",
    "\n",
    "To produce pandas dataframe objects from comma separated value (csv) files:\n",
    "```Python\n",
    "from pandas import read_csv\n",
    "pd = read_csv(file_name)```\n",
    "\n",
    "Pickling will be important at some point in the process of this work. To produce pandas dataframe objects from pickled files:\n",
    "```Python\n",
    "from pandas import read_pickle\n",
    "pd = read_pickle(file_name)```\n",
    "\n",
    "More of the input methods can be found [Pandas functions](https://pandas.pydata.org/pandas-docs/stable/reference/api/pandas.read_json.html)."
   ]
  },
  {
   "cell_type": "code",
   "execution_count": 16,
   "metadata": {},
   "outputs": [
    {
     "name": "stdout",
     "output_type": "stream",
     "text": [
      "C:\\Users\\sebas\\Documents\\DataFrames\\EpDF_Testing_25\\DataFrame0\\part-00000-6b976661-9ce5-4d16-8f87-c89392804828-c000.json\n",
      "C:\\Users\\sebas\\Documents\\DataFrames\\EpDF_Testing_25\\DataFrame0\\part-00001-6b976661-9ce5-4d16-8f87-c89392804828-c000.json\n",
      "C:\\Users\\sebas\\Documents\\DataFrames\\EpDF_Testing_25\\DataFrame0\\part-00002-6b976661-9ce5-4d16-8f87-c89392804828-c000.json\n",
      "C:\\Users\\sebas\\Documents\\DataFrames\\EpDF_Testing_25\\DataFrame0\\part-00003-6b976661-9ce5-4d16-8f87-c89392804828-c000.json\n",
      "C:\\Users\\sebas\\Documents\\DataFrames\\EpDF_Testing_25\\DataFrame0\\part-00004-6b976661-9ce5-4d16-8f87-c89392804828-c000.json\n",
      "C:\\Users\\sebas\\Documents\\DataFrames\\EpDF_Testing_25\\DataFrame0\\part-00005-6b976661-9ce5-4d16-8f87-c89392804828-c000.json\n",
      "C:\\Users\\sebas\\Documents\\DataFrames\\EpDF_Training_50\\DataFrame0\\part-00000-192751e2-c8b5-4d54-941a-43d0306418a8-c000.json\n",
      "C:\\Users\\sebas\\Documents\\DataFrames\\EpDF_Training_50\\DataFrame0\\part-00001-192751e2-c8b5-4d54-941a-43d0306418a8-c000.json\n",
      "C:\\Users\\sebas\\Documents\\DataFrames\\EpDF_Training_50\\DataFrame0\\part-00002-192751e2-c8b5-4d54-941a-43d0306418a8-c000.json\n",
      "C:\\Users\\sebas\\Documents\\DataFrames\\EpDF_Training_50\\DataFrame0\\part-00003-192751e2-c8b5-4d54-941a-43d0306418a8-c000.json\n",
      "C:\\Users\\sebas\\Documents\\DataFrames\\EpDF_Training_50\\DataFrame0\\part-00004-192751e2-c8b5-4d54-941a-43d0306418a8-c000.json\n",
      "C:\\Users\\sebas\\Documents\\DataFrames\\EpDF_Training_50\\DataFrame0\\part-00005-192751e2-c8b5-4d54-941a-43d0306418a8-c000.json\n",
      "C:\\Users\\sebas\\Documents\\DataFrames\\EpDF_Validation_25\\DataFrame0\\part-00000-41bda35c-4483-4432-8961-75b3ea2cae2e-c000.json\n",
      "C:\\Users\\sebas\\Documents\\DataFrames\\EpDF_Validation_25\\DataFrame0\\part-00001-41bda35c-4483-4432-8961-75b3ea2cae2e-c000.json\n",
      "C:\\Users\\sebas\\Documents\\DataFrames\\EpDF_Validation_25\\DataFrame0\\part-00002-41bda35c-4483-4432-8961-75b3ea2cae2e-c000.json\n",
      "C:\\Users\\sebas\\Documents\\DataFrames\\EpDF_Validation_25\\DataFrame0\\part-00003-41bda35c-4483-4432-8961-75b3ea2cae2e-c000.json\n",
      "C:\\Users\\sebas\\Documents\\DataFrames\\EpDF_Validation_25\\DataFrame0\\part-00004-41bda35c-4483-4432-8961-75b3ea2cae2e-c000.json\n",
      "C:\\Users\\sebas\\Documents\\DataFrames\\EpDF_Validation_25\\DataFrame0\\part-00005-41bda35c-4483-4432-8961-75b3ea2cae2e-c000.json\n",
      "C:\\Users\\sebas\\Documents\\DataFrames\\PipDF_Testing_25\\DataFrame0\\part-00000-de25829b-9453-4241-a01e-e13d4afae17e-c000.json\n",
      "C:\\Users\\sebas\\Documents\\DataFrames\\PipDF_Testing_25\\DataFrame0\\part-00001-de25829b-9453-4241-a01e-e13d4afae17e-c000.json\n",
      "C:\\Users\\sebas\\Documents\\DataFrames\\PipDF_Testing_25\\DataFrame0\\part-00002-de25829b-9453-4241-a01e-e13d4afae17e-c000.json\n",
      "C:\\Users\\sebas\\Documents\\DataFrames\\PipDF_Testing_25\\DataFrame0\\part-00003-de25829b-9453-4241-a01e-e13d4afae17e-c000.json\n",
      "C:\\Users\\sebas\\Documents\\DataFrames\\PipDF_Testing_25\\DataFrame0\\part-00004-de25829b-9453-4241-a01e-e13d4afae17e-c000.json\n",
      "C:\\Users\\sebas\\Documents\\DataFrames\\PipDF_Testing_25\\DataFrame0\\part-00005-de25829b-9453-4241-a01e-e13d4afae17e-c000.json\n",
      "C:\\Users\\sebas\\Documents\\DataFrames\\PipDF_Training_50\\DataFrame0\\part-00000-90ad08f7-4a17-4e20-b75d-9b6dcd456953-c000.json\n",
      "C:\\Users\\sebas\\Documents\\DataFrames\\PipDF_Training_50\\DataFrame0\\part-00001-90ad08f7-4a17-4e20-b75d-9b6dcd456953-c000.json\n",
      "C:\\Users\\sebas\\Documents\\DataFrames\\PipDF_Training_50\\DataFrame0\\part-00002-90ad08f7-4a17-4e20-b75d-9b6dcd456953-c000.json\n",
      "C:\\Users\\sebas\\Documents\\DataFrames\\PipDF_Training_50\\DataFrame0\\part-00003-90ad08f7-4a17-4e20-b75d-9b6dcd456953-c000.json\n",
      "C:\\Users\\sebas\\Documents\\DataFrames\\PipDF_Training_50\\DataFrame0\\part-00004-90ad08f7-4a17-4e20-b75d-9b6dcd456953-c000.json\n",
      "C:\\Users\\sebas\\Documents\\DataFrames\\PipDF_Training_50\\DataFrame0\\part-00005-90ad08f7-4a17-4e20-b75d-9b6dcd456953-c000.json\n",
      "C:\\Users\\sebas\\Documents\\DataFrames\\PipDF_Validation_25\\DataFrame0\\part-00000-074f1af4-bf53-4b69-a9c2-4a4b3620dd2b-c000.json\n",
      "C:\\Users\\sebas\\Documents\\DataFrames\\PipDF_Validation_25\\DataFrame0\\part-00001-074f1af4-bf53-4b69-a9c2-4a4b3620dd2b-c000.json\n",
      "C:\\Users\\sebas\\Documents\\DataFrames\\PipDF_Validation_25\\DataFrame0\\part-00002-074f1af4-bf53-4b69-a9c2-4a4b3620dd2b-c000.json\n",
      "C:\\Users\\sebas\\Documents\\DataFrames\\PipDF_Validation_25\\DataFrame0\\part-00003-074f1af4-bf53-4b69-a9c2-4a4b3620dd2b-c000.json\n",
      "C:\\Users\\sebas\\Documents\\DataFrames\\PipDF_Validation_25\\DataFrame0\\part-00004-074f1af4-bf53-4b69-a9c2-4a4b3620dd2b-c000.json\n",
      "C:\\Users\\sebas\\Documents\\DataFrames\\PipDF_Validation_25\\DataFrame0\\part-00005-074f1af4-bf53-4b69-a9c2-4a4b3620dd2b-c000.json\n",
      "C:\\Users\\sebas\\Documents\\DataFrames\\ProtDF_sh_Testing_25\\DataFrame0\\part-00000-8e64a236-89a2-4fa7-838c-4bd49050ac42-c000.json\n",
      "C:\\Users\\sebas\\Documents\\DataFrames\\ProtDF_sh_Testing_25\\DataFrame0\\part-00001-8e64a236-89a2-4fa7-838c-4bd49050ac42-c000.json\n",
      "C:\\Users\\sebas\\Documents\\DataFrames\\ProtDF_sh_Testing_25\\DataFrame0\\part-00002-8e64a236-89a2-4fa7-838c-4bd49050ac42-c000.json\n",
      "C:\\Users\\sebas\\Documents\\DataFrames\\ProtDF_sh_Testing_25\\DataFrame0\\part-00003-8e64a236-89a2-4fa7-838c-4bd49050ac42-c000.json\n",
      "C:\\Users\\sebas\\Documents\\DataFrames\\ProtDF_sh_Testing_25\\DataFrame0\\part-00004-8e64a236-89a2-4fa7-838c-4bd49050ac42-c000.json\n",
      "C:\\Users\\sebas\\Documents\\DataFrames\\ProtDF_sh_Testing_25\\DataFrame0\\part-00005-8e64a236-89a2-4fa7-838c-4bd49050ac42-c000.json\n",
      "C:\\Users\\sebas\\Documents\\DataFrames\\ProtDF_sh_Training_50\\DataFrame0\\part-00000-0ce6effd-c922-46f1-b9e1-3f588dcd4450-c000.json\n",
      "C:\\Users\\sebas\\Documents\\DataFrames\\ProtDF_sh_Training_50\\DataFrame0\\part-00001-0ce6effd-c922-46f1-b9e1-3f588dcd4450-c000.json\n",
      "C:\\Users\\sebas\\Documents\\DataFrames\\ProtDF_sh_Training_50\\DataFrame0\\part-00002-0ce6effd-c922-46f1-b9e1-3f588dcd4450-c000.json\n",
      "C:\\Users\\sebas\\Documents\\DataFrames\\ProtDF_sh_Training_50\\DataFrame0\\part-00003-0ce6effd-c922-46f1-b9e1-3f588dcd4450-c000.json\n",
      "C:\\Users\\sebas\\Documents\\DataFrames\\ProtDF_sh_Training_50\\DataFrame0\\part-00004-0ce6effd-c922-46f1-b9e1-3f588dcd4450-c000.json\n",
      "C:\\Users\\sebas\\Documents\\DataFrames\\ProtDF_sh_Training_50\\DataFrame0\\part-00005-0ce6effd-c922-46f1-b9e1-3f588dcd4450-c000.json\n",
      "C:\\Users\\sebas\\Documents\\DataFrames\\ProtDF_sh_Validation_25\\DataFrame0\\part-00000-87a665bc-9215-4f9b-8326-9c2e89cf8bc3-c000.json\n",
      "C:\\Users\\sebas\\Documents\\DataFrames\\ProtDF_sh_Validation_25\\DataFrame0\\part-00001-87a665bc-9215-4f9b-8326-9c2e89cf8bc3-c000.json\n",
      "C:\\Users\\sebas\\Documents\\DataFrames\\ProtDF_sh_Validation_25\\DataFrame0\\part-00002-87a665bc-9215-4f9b-8326-9c2e89cf8bc3-c000.json\n",
      "C:\\Users\\sebas\\Documents\\DataFrames\\ProtDF_sh_Validation_25\\DataFrame0\\part-00003-87a665bc-9215-4f9b-8326-9c2e89cf8bc3-c000.json\n",
      "C:\\Users\\sebas\\Documents\\DataFrames\\ProtDF_sh_Validation_25\\DataFrame0\\part-00004-87a665bc-9215-4f9b-8326-9c2e89cf8bc3-c000.json\n",
      "C:\\Users\\sebas\\Documents\\DataFrames\\ProtDF_sh_Validation_25\\DataFrame0\\part-00005-87a665bc-9215-4f9b-8326-9c2e89cf8bc3-c000.json\n"
     ]
    }
   ],
   "source": [
    "for f in dirs:\n",
    "    print(f)\n",
    "    pd = read_json(f,lines=True)"
   ]
  },
  {
   "cell_type": "markdown",
   "metadata": {},
   "source": [
    "# File issue investigation\n",
    "You will find the file looped over below has an issue. This prints the line number, assuming the first line is line 1. This will print the line with the error. Go and investigate this line inside an editor such as Notepad. Edit the error. \n",
    "\n",
    "## General file reading\n",
    "The code below will loop over an open file and print each line in the file. The line count is also determined. Additions can be made to the for loop that produces each line of the file to perform different tasks as done in the next cell.\n",
    "\n",
    "```Python\n",
    "line_count = 1\n",
    "with open(file_name,'r') as f:\n",
    "    for line in f:\n",
    "        line_count += 1\n",
    "        print(line)\n",
    "print(line_count)```"
   ]
  },
  {
   "cell_type": "code",
   "execution_count": 17,
   "metadata": {},
   "outputs": [],
   "source": [
    "line_count = 1 \n",
    "found_one = False\n",
    "with open(r'\\Users\\sebas\\Documents\\DataFrames\\PipDF_Training_50\\DataFrame0\\part-00003-90ad08f7-4a17-4e20-b75d-9b6dcd456953-c000.json','r') as f:\n",
    "    for line in f:\n",
    "        l = line.split(',')\n",
    "        for val in l:\n",
    "            if val.count('\"') != 2:\n",
    "                print(line_count)\n",
    "        found_one = False\n",
    "        line_count+=1"
   ]
  },
  {
   "cell_type": "markdown",
   "metadata": {},
   "source": [
    "# File concatenation\n",
    "\n",
    "Concatenate all the files for more flexibility in analysis. "
   ]
  },
  {
   "cell_type": "code",
   "execution_count": 3,
   "metadata": {},
   "outputs": [
    {
     "name": "stdout",
     "output_type": "stream",
     "text": [
      "['EpDF', 'PipDF', 'ProtDF_sh']\n",
      "{'EpDF': ['/Users/sebas/Documents/DataFrames/EpDF_Validation_25\\\\DataFrame0\\\\part-00000-41bda35c-4483-4432-8961-75b3ea2cae2e-c000.json', '/Users/sebas/Documents/DataFrames/EpDF_Validation_25\\\\DataFrame0\\\\part-00001-41bda35c-4483-4432-8961-75b3ea2cae2e-c000.json', '/Users/sebas/Documents/DataFrames/EpDF_Validation_25\\\\DataFrame0\\\\part-00002-41bda35c-4483-4432-8961-75b3ea2cae2e-c000.json', '/Users/sebas/Documents/DataFrames/EpDF_Validation_25\\\\DataFrame0\\\\part-00003-41bda35c-4483-4432-8961-75b3ea2cae2e-c000.json', '/Users/sebas/Documents/DataFrames/EpDF_Validation_25\\\\DataFrame0\\\\part-00004-41bda35c-4483-4432-8961-75b3ea2cae2e-c000.json', '/Users/sebas/Documents/DataFrames/EpDF_Validation_25\\\\DataFrame0\\\\part-00005-41bda35c-4483-4432-8961-75b3ea2cae2e-c000.json', '/Users/sebas/Documents/DataFrames/EpDF_Testing_25\\\\DataFrame0\\\\part-00000-6b976661-9ce5-4d16-8f87-c89392804828-c000.json', '/Users/sebas/Documents/DataFrames/EpDF_Testing_25\\\\DataFrame0\\\\part-00001-6b976661-9ce5-4d16-8f87-c89392804828-c000.json', '/Users/sebas/Documents/DataFrames/EpDF_Testing_25\\\\DataFrame0\\\\part-00002-6b976661-9ce5-4d16-8f87-c89392804828-c000.json', '/Users/sebas/Documents/DataFrames/EpDF_Testing_25\\\\DataFrame0\\\\part-00003-6b976661-9ce5-4d16-8f87-c89392804828-c000.json', '/Users/sebas/Documents/DataFrames/EpDF_Testing_25\\\\DataFrame0\\\\part-00004-6b976661-9ce5-4d16-8f87-c89392804828-c000.json', '/Users/sebas/Documents/DataFrames/EpDF_Testing_25\\\\DataFrame0\\\\part-00005-6b976661-9ce5-4d16-8f87-c89392804828-c000.json', '/Users/sebas/Documents/DataFrames/EpDF_Training_50\\\\DataFrame0\\\\part-00000-192751e2-c8b5-4d54-941a-43d0306418a8-c000.json', '/Users/sebas/Documents/DataFrames/EpDF_Training_50\\\\DataFrame0\\\\part-00001-192751e2-c8b5-4d54-941a-43d0306418a8-c000.json', '/Users/sebas/Documents/DataFrames/EpDF_Training_50\\\\DataFrame0\\\\part-00002-192751e2-c8b5-4d54-941a-43d0306418a8-c000.json', '/Users/sebas/Documents/DataFrames/EpDF_Training_50\\\\DataFrame0\\\\part-00003-192751e2-c8b5-4d54-941a-43d0306418a8-c000.json', '/Users/sebas/Documents/DataFrames/EpDF_Training_50\\\\DataFrame0\\\\part-00004-192751e2-c8b5-4d54-941a-43d0306418a8-c000.json', '/Users/sebas/Documents/DataFrames/EpDF_Training_50\\\\DataFrame0\\\\part-00005-192751e2-c8b5-4d54-941a-43d0306418a8-c000.json'], 'PipDF': ['/Users/sebas/Documents/DataFrames/PipDF_Validation_25\\\\DataFrame0\\\\part-00000-074f1af4-bf53-4b69-a9c2-4a4b3620dd2b-c000.json', '/Users/sebas/Documents/DataFrames/PipDF_Validation_25\\\\DataFrame0\\\\part-00001-074f1af4-bf53-4b69-a9c2-4a4b3620dd2b-c000.json', '/Users/sebas/Documents/DataFrames/PipDF_Validation_25\\\\DataFrame0\\\\part-00002-074f1af4-bf53-4b69-a9c2-4a4b3620dd2b-c000.json', '/Users/sebas/Documents/DataFrames/PipDF_Validation_25\\\\DataFrame0\\\\part-00003-074f1af4-bf53-4b69-a9c2-4a4b3620dd2b-c000.json', '/Users/sebas/Documents/DataFrames/PipDF_Validation_25\\\\DataFrame0\\\\part-00004-074f1af4-bf53-4b69-a9c2-4a4b3620dd2b-c000.json', '/Users/sebas/Documents/DataFrames/PipDF_Validation_25\\\\DataFrame0\\\\part-00005-074f1af4-bf53-4b69-a9c2-4a4b3620dd2b-c000.json', '/Users/sebas/Documents/DataFrames/PipDF_Testing_25\\\\DataFrame0\\\\part-00000-de25829b-9453-4241-a01e-e13d4afae17e-c000.json', '/Users/sebas/Documents/DataFrames/PipDF_Testing_25\\\\DataFrame0\\\\part-00001-de25829b-9453-4241-a01e-e13d4afae17e-c000.json', '/Users/sebas/Documents/DataFrames/PipDF_Testing_25\\\\DataFrame0\\\\part-00002-de25829b-9453-4241-a01e-e13d4afae17e-c000.json', '/Users/sebas/Documents/DataFrames/PipDF_Testing_25\\\\DataFrame0\\\\part-00003-de25829b-9453-4241-a01e-e13d4afae17e-c000.json', '/Users/sebas/Documents/DataFrames/PipDF_Testing_25\\\\DataFrame0\\\\part-00004-de25829b-9453-4241-a01e-e13d4afae17e-c000.json', '/Users/sebas/Documents/DataFrames/PipDF_Testing_25\\\\DataFrame0\\\\part-00005-de25829b-9453-4241-a01e-e13d4afae17e-c000.json', '/Users/sebas/Documents/DataFrames/PipDF_Training_50\\\\DataFrame0\\\\part-00000-90ad08f7-4a17-4e20-b75d-9b6dcd456953-c000.json', '/Users/sebas/Documents/DataFrames/PipDF_Training_50\\\\DataFrame0\\\\part-00001-90ad08f7-4a17-4e20-b75d-9b6dcd456953-c000.json', '/Users/sebas/Documents/DataFrames/PipDF_Training_50\\\\DataFrame0\\\\part-00002-90ad08f7-4a17-4e20-b75d-9b6dcd456953-c000.json', '/Users/sebas/Documents/DataFrames/PipDF_Training_50\\\\DataFrame0\\\\part-00003-90ad08f7-4a17-4e20-b75d-9b6dcd456953-c000.json', '/Users/sebas/Documents/DataFrames/PipDF_Training_50\\\\DataFrame0\\\\part-00004-90ad08f7-4a17-4e20-b75d-9b6dcd456953-c000.json', '/Users/sebas/Documents/DataFrames/PipDF_Training_50\\\\DataFrame0\\\\part-00005-90ad08f7-4a17-4e20-b75d-9b6dcd456953-c000.json'], 'ProtDF_sh': ['/Users/sebas/Documents/DataFrames/ProtDF_sh_Validation_25\\\\DataFrame0\\\\part-00000-87a665bc-9215-4f9b-8326-9c2e89cf8bc3-c000.json', '/Users/sebas/Documents/DataFrames/ProtDF_sh_Validation_25\\\\DataFrame0\\\\part-00001-87a665bc-9215-4f9b-8326-9c2e89cf8bc3-c000.json', '/Users/sebas/Documents/DataFrames/ProtDF_sh_Validation_25\\\\DataFrame0\\\\part-00002-87a665bc-9215-4f9b-8326-9c2e89cf8bc3-c000.json', '/Users/sebas/Documents/DataFrames/ProtDF_sh_Validation_25\\\\DataFrame0\\\\part-00003-87a665bc-9215-4f9b-8326-9c2e89cf8bc3-c000.json', '/Users/sebas/Documents/DataFrames/ProtDF_sh_Validation_25\\\\DataFrame0\\\\part-00004-87a665bc-9215-4f9b-8326-9c2e89cf8bc3-c000.json', '/Users/sebas/Documents/DataFrames/ProtDF_sh_Validation_25\\\\DataFrame0\\\\part-00005-87a665bc-9215-4f9b-8326-9c2e89cf8bc3-c000.json', '/Users/sebas/Documents/DataFrames/ProtDF_sh_Testing_25\\\\DataFrame0\\\\part-00000-8e64a236-89a2-4fa7-838c-4bd49050ac42-c000.json', '/Users/sebas/Documents/DataFrames/ProtDF_sh_Testing_25\\\\DataFrame0\\\\part-00001-8e64a236-89a2-4fa7-838c-4bd49050ac42-c000.json', '/Users/sebas/Documents/DataFrames/ProtDF_sh_Testing_25\\\\DataFrame0\\\\part-00002-8e64a236-89a2-4fa7-838c-4bd49050ac42-c000.json', '/Users/sebas/Documents/DataFrames/ProtDF_sh_Testing_25\\\\DataFrame0\\\\part-00003-8e64a236-89a2-4fa7-838c-4bd49050ac42-c000.json', '/Users/sebas/Documents/DataFrames/ProtDF_sh_Testing_25\\\\DataFrame0\\\\part-00004-8e64a236-89a2-4fa7-838c-4bd49050ac42-c000.json', '/Users/sebas/Documents/DataFrames/ProtDF_sh_Testing_25\\\\DataFrame0\\\\part-00005-8e64a236-89a2-4fa7-838c-4bd49050ac42-c000.json', '/Users/sebas/Documents/DataFrames/ProtDF_sh_Training_50\\\\DataFrame0\\\\part-00000-0ce6effd-c922-46f1-b9e1-3f588dcd4450-c000.json', '/Users/sebas/Documents/DataFrames/ProtDF_sh_Training_50\\\\DataFrame0\\\\part-00001-0ce6effd-c922-46f1-b9e1-3f588dcd4450-c000.json', '/Users/sebas/Documents/DataFrames/ProtDF_sh_Training_50\\\\DataFrame0\\\\part-00002-0ce6effd-c922-46f1-b9e1-3f588dcd4450-c000.json', '/Users/sebas/Documents/DataFrames/ProtDF_sh_Training_50\\\\DataFrame0\\\\part-00003-0ce6effd-c922-46f1-b9e1-3f588dcd4450-c000.json', '/Users/sebas/Documents/DataFrames/ProtDF_sh_Training_50\\\\DataFrame0\\\\part-00004-0ce6effd-c922-46f1-b9e1-3f588dcd4450-c000.json', '/Users/sebas/Documents/DataFrames/ProtDF_sh_Training_50\\\\DataFrame0\\\\part-00005-0ce6effd-c922-46f1-b9e1-3f588dcd4450-c000.json']}\n"
     ]
    }
   ],
   "source": [
    "from os.path import basename,split\n",
    "\n",
    "path = '/Users/sebas/Documents/DataFrames/'\n",
    "\n",
    "particles = []\n",
    "for d in dirs:\n",
    "    head,tail = split(d)\n",
    "    head = head.split('\\\\')\n",
    "    particle = head[5].split('_')[0]\n",
    "    if 'ProtDF' in particle:\n",
    "        particle = particle + '_sh'\n",
    "    if particle not in particles:\n",
    "        particles.append(particle)\n",
    "\n",
    "print(particles)\n",
    "\n",
    "part_dict = {}\n",
    "count = 0 \n",
    "d = '_Validation_25'\n",
    "for particle in particles:\n",
    "    part_files = []\n",
    "    while count < 3:        \n",
    "        if count == 1:\n",
    "            d = '_Testing_25'\n",
    "        elif count == 2:\n",
    "            d ='_Training_50'\n",
    "        d = particle + d\n",
    "        files = listdir(join(path,d,'DataFrame0'))\n",
    "        for f in files:\n",
    "            if f.endswith('.json'):\n",
    "                part_files.append(join(path,d,'DataFrame0',f))\n",
    "        if count == 2:\n",
    "            d = '_Validation_25'\n",
    "            count = 0\n",
    "            part_dict[particle] = part_files\n",
    "            break\n",
    "        else:\n",
    "            count += 1\n",
    "\n",
    "print(part_dict)"
   ]
  },
  {
   "cell_type": "code",
   "execution_count": 4,
   "metadata": {
    "scrolled": false
   },
   "outputs": [
    {
     "name": "stdout",
     "output_type": "stream",
     "text": [
      "16427\n",
      "16383\n",
      "16444\n",
      "16674\n",
      "16327\n",
      "16428\n",
      "16363\n",
      "16306\n",
      "16221\n",
      "16514\n",
      "16689\n",
      "16544\n",
      "32831\n",
      "32751\n",
      "32979\n",
      "32756\n",
      "32730\n",
      "32592\n",
      "393959\n",
      "17801\n",
      "17833\n",
      "17755\n",
      "17814\n",
      "17716\n",
      "17756\n",
      "17645\n",
      "17955\n",
      "17721\n",
      "17800\n",
      "17793\n",
      "17571\n",
      "35493\n",
      "35555\n",
      "35422\n",
      "33239\n",
      "35579\n",
      "35659\n",
      "424107\n",
      "11619\n",
      "11830\n",
      "11785\n",
      "11736\n",
      "11821\n",
      "11624\n",
      "11781\n",
      "11869\n",
      "11770\n",
      "11773\n",
      "11838\n",
      "11785\n",
      "23686\n",
      "23438\n",
      "23478\n",
      "23572\n",
      "23662\n",
      "23595\n",
      "282662\n"
     ]
    }
   ],
   "source": [
    "from pandas import concat\n",
    "pd2 = None\n",
    "for key in part_dict.keys():\n",
    "    count = 0\n",
    "    pd = None\n",
    "    for f in part_dict[key]:\n",
    "        if count == 0:\n",
    "            pd = read_json(f,lines=True)\n",
    "            print\n",
    "            pd = pd[pd['label']==1]\n",
    "            print(len(pd))\n",
    "        else:\n",
    "            pd2 = read_json(f,lines=True)\n",
    "            pd2 = pd2[pd2['label']==1]\n",
    "            print(len(pd2))\n",
    "            pd = concat([pd,pd2])\n",
    "        count += 1\n",
    "    pd = pd.sample(frac=1).reset_index(drop=True)\n",
    "    pd.to_csv('%s_DataFrame.csv'%key)   \n",
    "    print(len(pd))\n",
    "    \n",
    "print(16428+16544+32592)\n",
    "print(16327+16689+32730)\n"
   ]
  },
  {
   "cell_type": "code",
   "execution_count": 6,
   "metadata": {
    "scrolled": true
   },
   "outputs": [
    {
     "name": "stdout",
     "output_type": "stream",
     "text": [
      "65564\n",
      "65746\n"
     ]
    }
   ],
   "source": [
    "print(16428+16544+32592)\n",
    "print(16327+16689+32730)"
   ]
  },
  {
   "cell_type": "code",
   "execution_count": null,
   "metadata": {},
   "outputs": [],
   "source": []
  }
 ],
 "metadata": {
  "kernelspec": {
   "display_name": "Python 3",
   "language": "python",
   "name": "python3"
  },
  "language_info": {
   "codemirror_mode": {
    "name": "ipython",
    "version": 3
   },
   "file_extension": ".py",
   "mimetype": "text/x-python",
   "name": "python",
   "nbconvert_exporter": "python",
   "pygments_lexer": "ipython3",
   "version": "3.7.1"
  }
 },
 "nbformat": 4,
 "nbformat_minor": 2
}
